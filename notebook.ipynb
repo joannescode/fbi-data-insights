{
 "cells": [
  {
   "cell_type": "code",
   "execution_count": 174,
   "metadata": {},
   "outputs": [],
   "source": [
    "import requests # type: ignore\n",
    "import json\n",
    "import csv\n",
    "import pandas as pd\n",
    "import numpy as np"
   ]
  },
  {
   "cell_type": "code",
   "execution_count": 175,
   "metadata": {},
   "outputs": [],
   "source": [
    "# Load and read json file\n",
    "with open(\"request_data.json\", \"r\") as file:\n",
    "    request_data = json.load(file)\n",
    "\n",
    "wanted_list = request_data[\"url\"]\n",
    "request_headers = request_data[\"headers\"]"
   ]
  },
  {
   "cell_type": "code",
   "execution_count": 176,
   "metadata": {},
   "outputs": [],
   "source": [
    "# Get session\n",
    "session = requests.Session()\n",
    "response = session.get(url=wanted_list, headers=request_headers)\n",
    "data = json.loads(response.text)\n",
    "session.close()"
   ]
  },
  {
   "cell_type": "code",
   "execution_count": 177,
   "metadata": {},
   "outputs": [],
   "source": [
    "# Extract base, category, other informations\n",
    "fbi_data = []\n",
    "\n",
    "for item in data.get(\"items\", []):\n",
    "    person = {\n",
    "        \"name\": item.get(\"title\"),\n",
    "        \"age_max\": item.get(\"age_max\"),\n",
    "        \"age_min\": item.get(\"age_min\"),\n",
    "        \"sex\": item.get(\"sex\"),\n",
    "        \"place_of_birth\": item.get(\"place_of_birth\"),\n",
    "        \"details\": item.get(\"details\"),\n",
    "        \"occupations\": item.get(\"occupations\") or [],\n",
    "        \"locations\": item.get(\"locations\") or [],\n",
    "        \"subjects\": item.get(\"subjects\") or [],\n",
    "        \"aliases\": item.get(\"aliases\") or []\n",
    "    }\n",
    "    fbi_data.append(person)\n",
    "\n",
    "\n",
    "for person in fbi_data:\n",
    "    print(f\"Name: {person['name']}\")\n",
    "    print(f\"Age Max: {person['age_max']}\")\n",
    "    print(f\"Age Min: {person['age_min']}\")\n",
    "    print(f\"Sex: {person['sex']}\")\n",
    "    print(f\"Place of Birth: {person['place_of_birth']}\")\n",
    "    print(f\"Details: {person['details']}\")\n",
    "    \n",
    "    print(\"Occupations:\")\n",
    "    for occupation in person['occupations']:\n",
    "        print(f\" - {occupation}\")\n",
    "\n",
    "    print(\"Locations:\")\n",
    "    for location in person['locations']:\n",
    "        print(f\" - {location}\")\n",
    "    \n",
    "    print(\"Subjects:\")\n",
    "    for subject in person['subjects']:\n",
    "        print(f\" - {subject}\")\n",
    "    \n",
    "    print(\"Aliases:\")\n",
    "    for alias in person['aliases']:\n",
    "        print(f\" - {alias}\")\n",
    "    \n",
    "    print(\"\\n\" + \"=\"*40 + \"\\n\")"
   ]
  },
  {
   "cell_type": "code",
   "execution_count": null,
   "metadata": {},
   "outputs": [],
   "source": [
    "# Transform data\n",
    "df = pd.DataFrame(fbi_data)\n",
    "\n",
    "df['details'] = df['details'].apply(lambda x: \", \".join(x) if isinstance(x, list) else x)\n",
    "df['occupations'] = df['occupations'].apply(lambda x: \", \".join(x) if isinstance(x, list) else x)\n",
    "df['locations'] = df['locations'].apply(lambda x: \", \".join(x) if isinstance(x, list) else x)\n",
    "df['subjects'] = df['subjects'].apply(lambda x: \", \".join(x) if isinstance(x, list) else x)\n",
    "df['aliases'] = df['aliases'].apply(lambda x: \", \".join(x) if isinstance(x, list) else x)\n",
    "\n",
    "df[\"details\"] = df[\"details\"].str.replace(\"<p>\", \"\").str.replace(\"</p>\", \"\")\n",
    "df[\"age_max\"] = pd.to_numeric(df[\"age_max\"], errors='coerce').astype('Int64')\n",
    "df[\"age_min\"] = pd.to_numeric(df[\"age_min\"], errors='coerce').astype('Int64')"
   ]
  },
  {
   "cell_type": "code",
   "execution_count": null,
   "metadata": {},
   "outputs": [
    {
     "name": "stdout",
     "output_type": "stream",
     "text": [
      "Dados salvos em 'people_data.csv'\n"
     ]
    }
   ],
   "source": [
    "# Load data to csv\n",
    "df.to_csv('fbi_data.csv', index=False, quoting=csv.QUOTE_NONNUMERIC)"
   ]
  },
  {
   "cell_type": "code",
   "execution_count": null,
   "metadata": {},
   "outputs": [],
   "source": []
  },
  {
   "cell_type": "code",
   "execution_count": null,
   "metadata": {},
   "outputs": [],
   "source": []
  }
 ],
 "metadata": {
  "kernelspec": {
   "display_name": "Python 3 (ipykernel)",
   "language": "python",
   "name": "python3"
  },
  "language_info": {
   "codemirror_mode": {
    "name": "ipython",
    "version": 3
   },
   "file_extension": ".py",
   "mimetype": "text/x-python",
   "name": "python",
   "nbconvert_exporter": "python",
   "pygments_lexer": "ipython3",
   "version": "3.12.3"
  }
 },
 "nbformat": 4,
 "nbformat_minor": 4
}
