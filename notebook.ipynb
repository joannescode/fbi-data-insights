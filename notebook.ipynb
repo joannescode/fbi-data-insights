{
 "cells": [
  {
   "cell_type": "code",
   "execution_count": 1,
   "metadata": {},
   "outputs": [],
   "source": [
    "import requests # type: ignore\n",
    "import json\n",
    "import csv\n",
    "import pandas as pd\n",
    "import numpy as np"
   ]
  },
  {
   "cell_type": "code",
   "execution_count": 2,
   "metadata": {},
   "outputs": [],
   "source": [
    "# Load and read json file\n",
    "with open(\"request_data.json\", \"r\") as file:\n",
    "    request_data = json.load(file)\n",
    "\n",
    "wanted_list = request_data[\"url\"]\n",
    "request_headers = request_data[\"headers\"]"
   ]
  },
  {
   "cell_type": "code",
   "execution_count": 3,
   "metadata": {},
   "outputs": [],
   "source": [
    "# Get session\n",
    "session = requests.Session()\n",
    "response = session.get(url=wanted_list, headers=request_headers)\n",
    "data = json.loads(response.text)\n",
    "session.close()"
   ]
  },
  {
   "cell_type": "code",
   "execution_count": 4,
   "metadata": {},
   "outputs": [],
   "source": [
    "# Extract base information\n",
    "name_wanted = [item[\"title\"] for item in data[\"items\"]]\n",
    "age_max_wanted = [item[\"age_max\"] for item in data[\"items\"]]\n",
    "age_min_wanted = [item[\"age_min\"] for item in data[\"items\"]]\n",
    "sex_wanted = [item[\"sex\"] for item in data[\"items\"]]\n",
    "\n",
    "# Extract category information\n",
    "occupation_wanted = [item[\"occupations\"] for item in data[\"items\"]]\n",
    "location_wanted = [item[\"locations\"] for item in data[\"items\"]]\n",
    "place_of_birth_wanted = [item[\"place_of_birth\"] for item in data[\"items\"]]\n",
    "subjects_wanted = [item[\"subjects\"] for item in data[\"items\"]]\n",
    "\n",
    "# Extract other information\n",
    "details_wanted = [item[\"details\"] for item in data[\"items\"]]"
   ]
  },
  {
   "cell_type": "code",
   "execution_count": 5,
   "metadata": {},
   "outputs": [],
   "source": [
    "# Transform data extract\n",
    "data_dict = {\"name\": name_wanted, \"age_max\": age_max_wanted, \"age_min\": age_min_wanted,\n",
    "    \"sex\": sex_wanted, \"occupation\": occupation_wanted, \"location\": location_wanted,\n",
    "    \"place_of_birth\":place_of_birth_wanted, \"subjects\": subjects_wanted, \"details\":details_wanted}\n",
    "\n",
    "df = pd.DataFrame(data_dict)\n",
    "df = df.replace(\"Null\", np.nan)\n",
    "\n",
    "df[\"details\"] = df[\"details\"].str.replace(\"<p>\", \"\").str.replace(\"</p>\",\"\")\n",
    "df[\"age_max\"] = df[\"age_max\"].astype(float)\n",
    "df[\"age_min\"] = df[\"age_min\"].astype(float)\n",
    "df[\"age_max\"] = pd.to_numeric(df[\"age_max\"], errors='coerce').astype('Int64')\n",
    "df[\"age_min\"] = pd.to_numeric(df[\"age_min\"], errors='coerce').astype('Int64')\n"
   ]
  },
  {
   "cell_type": "code",
   "execution_count": 6,
   "metadata": {},
   "outputs": [
    {
     "name": "stdout",
     "output_type": "stream",
     "text": [
      "                                                name  age_max  age_min  \\\n",
      "0             JESUS DE LA CRUZ - LYNN, MASSACHUSETTS        6        6   \n",
      "1                         BORIS YAKOVLEVICH LIVSHITS     <NA>     <NA>   \n",
      "2                                 AARON PAUL VICTORY     <NA>     <NA>   \n",
      "3  IDA DEAN (RICHARDSON) ANDERSON - ANN ARBOR, MI...       21       21   \n",
      "4                         HUYEN TRANG TEMPLE - ARSON     <NA>     <NA>   \n",
      "\n",
      "      sex             occupation location     place_of_birth  \\\n",
      "0    Male                   None     None               None   \n",
      "1    Male  [Electrical Engineer]     None  Leningrad, Russia   \n",
      "2    Male                   None     None           Oklahoma   \n",
      "3  Female                   None     None               None   \n",
      "4    None                   None     None               None   \n",
      "\n",
      "                      subjects  \\\n",
      "0      [ViCAP Missing Persons]   \n",
      "1        [Counterintelligence]   \n",
      "2  [Additional Violent Crimes]   \n",
      "3      [ViCAP Missing Persons]   \n",
      "4        [Seeking Information]   \n",
      "\n",
      "                                             details  \n",
      "0  Jesus de la Cruz was last seen on September 28...  \n",
      "1                                               None  \n",
      "2                                               None  \n",
      "3  Ida Dean (Richardson) Anderson, a 21-year-old ...  \n",
      "4  On November 5, 2023, the Huyen Trang Temple lo...  \n"
     ]
    }
   ],
   "source": [
    "print(df.head())"
   ]
  },
  {
   "cell_type": "code",
   "execution_count": null,
   "metadata": {},
   "outputs": [],
   "source": []
  }
 ],
 "metadata": {
  "kernelspec": {
   "display_name": "Python 3 (ipykernel)",
   "language": "python",
   "name": "python3"
  },
  "language_info": {
   "codemirror_mode": {
    "name": "ipython",
    "version": 3
   },
   "file_extension": ".py",
   "mimetype": "text/x-python",
   "name": "python",
   "nbconvert_exporter": "python",
   "pygments_lexer": "ipython3",
   "version": "3.12.3"
  }
 },
 "nbformat": 4,
 "nbformat_minor": 4
}
